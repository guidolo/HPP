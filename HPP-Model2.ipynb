{
 "cells": [
  {
   "cell_type": "code",
   "execution_count": 1,
   "metadata": {},
   "outputs": [
    {
     "name": "stderr",
     "output_type": "stream",
     "text": [
      "/usr/local/lib/python2.7/site-packages/h5py/__init__.py:36: FutureWarning: Conversion of the second argument of issubdtype from `float` to `np.floating` is deprecated. In future, it will be treated as `np.float64 == np.dtype(float).type`.\n",
      "  from ._conv import register_converters as _register_converters\n",
      "Using TensorFlow backend.\n"
     ]
    },
    {
     "data": {
      "text/plain": [
       "Index([u'id', u'titulo', u'descripcion', u'tipodepropiedad', u'direccion',\n",
       "       u'ciudad', u'provincia', u'antiguedad', u'habitaciones', u'garages',\n",
       "       u'banos', u'metroscubiertos', u'metrostotales', u'idzona', u'lat',\n",
       "       u'lng', u'fecha', u'gimnasio', u'usosmultiples', u'piscina',\n",
       "       u'escuelascercanas', u'centroscomercialescercanos', u'precio'],\n",
       "      dtype='object')"
      ]
     },
     "execution_count": 1,
     "metadata": {},
     "output_type": "execute_result"
    }
   ],
   "source": [
    "#!/usr/bin/env python2\n",
    "# -*- coding: utf-8 -*-\n",
    "\"\"\"\n",
    "Created on Sat Jul 14 13:00:24 2018\n",
    "\n",
    "@author: guidosidoni\n",
    "\"\"\"\n",
    "\n",
    "import pandas as pd\t\n",
    "import datetime\n",
    "import matplotlib.pyplot as plt\n",
    "import numpy as np\n",
    "from sklearn.model_selection import train_test_split\n",
    "from keras import models\n",
    "from keras import layers\n",
    "from keras import metrics\n",
    "\n",
    "training = pd.read_csv('/Users/guidosidoni/Documents/NEU/Misselanea/HousePricePrediction/train.csv')\n",
    "\n",
    "training.columns"
   ]
  },
  {
   "cell_type": "code",
   "execution_count": 2,
   "metadata": {},
   "outputs": [],
   "source": [
    "#PLOTING THE OUTPUT\n",
    "\n",
    "def plotResults():\n",
    "    acc = history.history['mean_squared_logarithmic_error']\n",
    "    val_acc = history.history['val_mean_squared_logarithmic_error']\n",
    "    loss = history.history['loss']\n",
    "    val_loss = history.history['val_loss']\n",
    "\n",
    "    epochs = range(1, len(acc)+1)\n",
    "\n",
    "    plt.plot(epochs, acc, 'bo', label='Training acc')\n",
    "    plt.plot(epochs, val_acc, 'b', label='Valiudation acc')     \n",
    "    plt.title('Training and validation accuracy')   \n",
    "    plt.legend() \n",
    "\n",
    "    plt.figure()\n",
    "    plt.plot(epochs, loss, 'bo', label='Training loss')\n",
    "    plt.plot(epochs, val_loss, 'b', label='Validation loss')\n",
    "    plt.title('Training and validation loss')\n",
    "    plt.legend()\n",
    "\n",
    "    plt.show()"
   ]
  },
  {
   "cell_type": "code",
   "execution_count": 4,
   "metadata": {},
   "outputs": [],
   "source": [
    "########## CREATION OF NEW VARIABLES #################\n",
    "training['precioM2'] = training.precio / training.metrostotales\n",
    "training['FechaD'] = pd.to_datetime(training.fecha, format=\"%Y-%m-%d\")\n",
    "\n",
    "#add year, month\n",
    "\n",
    "training.describe()\n",
    "\n",
    "##### Looking for NA #######\n",
    "training.isnull().values.any()\n",
    "training.isnull().any()\n",
    "\n",
    "training.titulo\n",
    "training.descripcion\n",
    "training.tipodepropiedad\n",
    "training['tipodepropiedad'] = training['tipodepropiedad'].fillna(' ')\n",
    "\n",
    "training.direccion\n",
    "training.ciudad\n",
    "crosstabCiudad = pd.crosstab(training.ciudad,1)\n",
    "crosstabCiudad = crosstabCiudad.rename(columns={1:'count'})\n",
    "crosstabCiudad.sort_values('count',ascending=False)\n",
    "training['ciudad'] = training['ciudad'].fillna(' ')\n",
    "\n",
    "training.provincia\n",
    "pd.crosstab(training.provincia, 1).rename(columns={1:'count'}).sort_values('count', ascending=False)\n",
    "training['provincia'] = training['provincia'].fillna(' ')\n",
    "\n",
    "training.antiguedad\n",
    "pd.crosstab(training.habitaciones, 1)\n",
    "training['habitaciones'] = training['habitaciones'].fillna(0)\n",
    "\n",
    "training['gimnasio'] = training['gimnasio'].fillna(0)\n",
    "training['usosmultiples'] = training['usosmultiples'].fillna(0)\n",
    "training['garages'] = training['garages'].fillna(0)\n",
    "training['banos'] = training['banos'].fillna(0)\n",
    "training['metroscubiertos'] = training['metroscubiertos'].fillna(0)\n",
    "training['metrostotales'] = training['metrostotales'].fillna(0)\n",
    "\n",
    "\n"
   ]
  },
  {
   "cell_type": "code",
   "execution_count": 13,
   "metadata": {},
   "outputs": [
    {
     "data": {
      "text/plain": [
       "False"
      ]
     },
     "execution_count": 13,
     "metadata": {},
     "output_type": "execute_result"
    }
   ],
   "source": [
    "training['yearmonth'] = training['FechaD'].dt.year * 100 + training['FechaD'].dt.month\n",
    "training['yearmonth'].isnull().any()"
   ]
  },
  {
   "cell_type": "code",
   "execution_count": 5,
   "metadata": {},
   "outputs": [
    {
     "data": {
      "text/plain": [
       "id                            False\n",
       "titulo                         True\n",
       "descripcion                    True\n",
       "tipodepropiedad               False\n",
       "direccion                      True\n",
       "ciudad                        False\n",
       "provincia                     False\n",
       "antiguedad                     True\n",
       "habitaciones                  False\n",
       "garages                       False\n",
       "banos                         False\n",
       "metroscubiertos               False\n",
       "metrostotales                 False\n",
       "idzona                         True\n",
       "lat                            True\n",
       "lng                            True\n",
       "fecha                         False\n",
       "gimnasio                      False\n",
       "usosmultiples                 False\n",
       "piscina                       False\n",
       "escuelascercanas              False\n",
       "centroscomercialescercanos    False\n",
       "precio                        False\n",
       "precioM2                       True\n",
       "FechaD                        False\n",
       "dtype: bool"
      ]
     },
     "execution_count": 5,
     "metadata": {},
     "output_type": "execute_result"
    }
   ],
   "source": [
    "training.isnull().any()"
   ]
  },
  {
   "cell_type": "code",
   "execution_count": 7,
   "metadata": {},
   "outputs": [
    {
     "data": {
      "text/plain": [
       "[<matplotlib.lines.Line2D at 0x11f417e10>]"
      ]
     },
     "execution_count": 7,
     "metadata": {},
     "output_type": "execute_result"
    },
    {
     "data": {
      "image/png": "[encoded data removed]",
      "text/plain": [
       "<Figure size 432x288 with 1 Axes>"
      ]
     },
     "metadata": {},
     "output_type": "display_data"
    }
   ],
   "source": [
    "##ploting price by year\n",
    "year = training.groupby(training.FechaD.dt.year )\n",
    "priceYear = (year.agg({'precio':'mean', 'precioM2':'mean'}) \n",
    "    .rename(columns={'precio':'mean_precio', 'precioM2':'mean_precioM2'}))\n",
    "\n",
    "plt.plot(priceYear.index, priceYear.mean_precio, '-o')\n",
    "plt.plot(priceYear.index, priceYear.mean_precioM2, '-o')"
   ]
  },
  {
   "cell_type": "code",
   "execution_count": 8,
   "metadata": {},
   "outputs": [
    {
     "data": {
      "text/plain": [
       "[<matplotlib.lines.Line2D at 0x11ed0d950>]"
      ]
     },
     "execution_count": 8,
     "metadata": {},
     "output_type": "execute_result"
    },
    {
     "data": {
      "image/png": "[encoded data removed]",
      "text/plain": [
       "<Figure size 432x288 with 1 Axes>"
      ]
     },
     "metadata": {},
     "output_type": "display_data"
    }
   ],
   "source": [
    "#ploting price by month and year\n",
    "monthyear = training.set_index('FechaD')\n",
    "monthyear = monthyear.resample('M').mean()\n",
    "plt.plot(monthyear.index, monthyear.precio, '-o')\n",
    "plt.plot(monthyear.index, monthyear.precioM2, '-o')\n"
   ]
  },
  {
   "cell_type": "code",
   "execution_count": 14,
   "metadata": {},
   "outputs": [],
   "source": [
    "############################################\n",
    "\n",
    "####One hot encoding\n",
    "trainingShort = training[['tipodepropiedad','provincia','precio','yearmonth','habitaciones','garages','banos',\n",
    "                       'metroscubiertos','metrostotales', 'gimnasio','usosmultiples','piscina',\n",
    "                       'escuelascercanas','centroscomercialescercanos']]\n",
    "\n",
    "\n",
    "trainingShort2 = pd.concat([trainingShort.iloc[:,2:], \n",
    "                         pd.get_dummies(trainingShort.provincia), \n",
    "                         pd.get_dummies(training.tipodepropiedad)\n",
    "                         ], axis=1)\n",
    "\n",
    "trainingShort2.columns\n",
    "\n",
    "##### Shuffle data\n",
    "trainingShort2 = np.array(trainingShort2 )\n",
    "np.random.shuffle(trainingShort2)\n",
    "trainingShort2\n",
    "trainingShort2.shape\n",
    "##### Standarized Values\n",
    "\n",
    "train_data = trainingShort2[:,1:]\n",
    "train_target = trainingShort2[:,0]\n",
    "\n",
    "mean = train_data.mean(axis=0)\n",
    "mean.shape\n",
    "train_data -= mean\n",
    "std = train_data.std(axis=0)\n",
    "train_data /= std\n",
    "\n",
    "#test_data -= mean\n",
    "#test_data /= std"
   ]
  },
  {
   "cell_type": "code",
   "execution_count": 11,
   "metadata": {},
   "outputs": [],
   "source": [
    "######### MODEL SETING ##########\n",
    "\n",
    "def build_model(train_data):\n",
    "    model = models.Sequential()\n",
    "    model.add(layers.Dense(64, activation='relu', input_shape=(train_data.shape[1],)))\n",
    "    model.add(layers.Dense(64, activation='relu'))\n",
    "    model.add(layers.Dense(1))\n",
    "    model.compile(optimizer='rmsprop', loss='mse', metrics=[metrics.mean_squared_logarithmic_error])\n",
    "    return model\n"
   ]
  },
  {
   "cell_type": "code",
   "execution_count": 12,
   "metadata": {},
   "outputs": [
    {
     "name": "stdout",
     "output_type": "stream",
     "text": [
      "_________________________________________________________________\n",
      "Layer (type)                 Output Shape              Param #   \n",
      "=================================================================\n",
      "dense_1 (Dense)              (None, 64)                4416      \n",
      "_________________________________________________________________\n",
      "dense_2 (Dense)              (None, 64)                4160      \n",
      "_________________________________________________________________\n",
      "dense_3 (Dense)              (None, 1)                 65        \n",
      "=================================================================\n",
      "Total params: 8,641\n",
      "Trainable params: 8,641\n",
      "Non-trainable params: 0\n",
      "_________________________________________________________________\n"
     ]
    }
   ],
   "source": [
    "train_data, val_data, train_targets, val_targets = train_test_split(train_data, train_target, random_state = 222, test_size=0.2)\n",
    "\n",
    "model = build_model(train_data)\n",
    "\n",
    "model.summary()"
   ]
  },
  {
   "cell_type": "code",
   "execution_count": null,
   "metadata": {},
   "outputs": [
    {
     "name": "stdout",
     "output_type": "stream",
     "text": [
      "Train on 192000 samples, validate on 48000 samples\n",
      "Epoch 1/30\n",
      "192000/192000 [==============================] - 197s 1ms/step - loss: 3900727806342.7012 - mean_squared_logarithmic_error: 6.5611 - val_loss: 3276972775093.0625 - val_mean_squared_logarithmic_error: 2.932260051425.4829 - mean_s - ETA: 49s - loss: 40981368000 - ETA: 2s - loss: 3 - ETA: 1s - loss: 3902331\n",
      "Epoch 2/30\n",
      "192000/192000 [==============================] - 194s 1ms/step - loss: 3024105459972.6348 - mean_squared_logarithmic_error: 1.8654 - val_loss: 2786152424865.4292 - val_mean_squared_logarithmic_error: 1.06941:18 - loss: 3144656719437 - ETA: 1:14 - loss: 3136443629705.4556  - ETA: 1:14 - loss: 3138979600700.6460 - mean_squared_logarithmic_error: 2.24 - ETA: 1:14 - loss: 3138608945011.7646 - mean_squared_logarithmic_err - ETA: 1:13 - loss: 3136986043937.7856 - mean_squared_logarithmic_e - ETA: 1:13 - loss: 3138439042019.5356 - mean_squared_logarit - - ETA: 1:05 - loss: 3 - ETA: 1:03 - loss: 313516085 - ETA: 47s - loss: 3090470667258.6221 - mean_squared_logari - E - ETA: 0s - loss: 3024574343069.3696 - mean_squared_logarithmic_e\n",
      "Epoch 3/30\n",
      "191988/192000 [============================>.] - ETA: 0s - loss: 2492109238531.5830 - mean_squared_logarithmic_error: 0.7572"
     ]
    }
   ],
   "source": [
    "#we save the history of the fiting.\n",
    "history = model.fit(train_data, \n",
    "                    train_targets, \n",
    "                    validation_data=(val_data, val_targets),\n",
    "                    epochs=30, batch_size=1, \n",
    "                    verbose=1)\n",
    "\n",
    "\n",
    "plotResults()"
   ]
  },
  {
   "cell_type": "code",
   "execution_count": null,
   "metadata": {},
   "outputs": [],
   "source": [
    "#SAVE THE MODEL\n",
    "model.save('HPP_model1.h5')\n"
   ]
  }
 ],
 "metadata": {
  "kernelspec": {
   "display_name": "Python 2",
   "language": "python",
   "name": "python2"
  },
  "language_info": {
   "codemirror_mode": {
    "name": "ipython",
    "version": 2
   },
   "file_extension": ".py",
   "mimetype": "text/x-python",
   "name": "python",
   "nbconvert_exporter": "python",
   "pygments_lexer": "ipython2",
   "version": "2.7.14"
  }
 },
 "nbformat": 4,
 "nbformat_minor": 2
}
